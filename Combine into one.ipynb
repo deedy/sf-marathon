{
 "cells": [
  {
   "cell_type": "code",
   "execution_count": 3,
   "id": "2803e22d",
   "metadata": {},
   "outputs": [],
   "source": [
    "import csv\n",
    "from typing import List\n",
    "import matplotlib.pyplot as plt\n",
    "import seaborn as sns\n",
    "from datetime import datetime, timedelta\n",
    "import numpy as np\n",
    "import math\n",
    "from scipy import stats\n",
    "from collections import Counter, defaultdict\n",
    "sns.set_style(\"darkgrid\")\n",
    "plt.rcParams['figure.figsize'] = [10, 5]\n",
    "import pandas as pd\n",
    "from os import listdir"
   ]
  },
  {
   "cell_type": "code",
   "execution_count": 83,
   "id": "898a8d37",
   "metadata": {},
   "outputs": [],
   "source": [
    "def read_csv(fname: str) -> List[List[str]]:\n",
    "\tdata = []\n",
    "\twith open(fname, 'r') as csvfile:\n",
    "\t    spamreader = csv.reader(csvfile)\n",
    "\t    for row in spamreader:\n",
    "\t    \tdata.append(row)\n",
    "\treturn data"
   ]
  },
  {
   "cell_type": "code",
   "execution_count": 84,
   "id": "f943e86a",
   "metadata": {},
   "outputs": [],
   "source": [
    "files = [('first_half_2008.csv', 'first', '2008'),\n",
    "('first_half_2009.csv', 'first', '2009'),\n",
    "('first_half_2010.csv', 'first', '2010'),\n",
    "('first_half_2011.csv', 'first', '2011'),\n",
    "('first_half_2012.csv', 'first', '2012'),\n",
    "('first_half_2013.csv', 'first', '2013'),\n",
    "('first_half_2014.csv', 'first', '2014'),\n",
    "('first_half_2015.csv', 'first', '2015'),\n",
    "('first_half_2016.csv', 'first', '2016'),\n",
    "('first_half_2017.csv', 'first', '2017'),\n",
    "('first_half_2018.csv', 'first', '2018'),\n",
    "('first_half_2019.csv', 'first', '2019'),\n",
    "('first_half_2021.csv', 'first', '2021'),\n",
    "('second_half_2008.csv', 'second', '2008'),\n",
    "('second_half_2009.csv', 'second', '2009'),\n",
    "('second_half_2010.csv', 'second', '2010'),\n",
    "('second_half_2011.csv', 'second', '2011'),\n",
    "('second_half_2012.csv', 'second', '2012'),\n",
    "('second_half_2013.csv', 'second', '2013'),\n",
    "('second_half_2014.csv', 'second', '2014'),\n",
    "('second_half_2015.csv', 'second', '2015'),\n",
    "('second_half_2016.csv', 'second', '2016'),\n",
    "('second_half_2017.csv', 'second', '2017'),\n",
    "('second_half_2018.csv', 'second', '2018'),\n",
    "('second_half_2019.csv', 'second', '2019'),\n",
    "('second_half_2021.csv', 'second', '2021')]\n"
   ]
  },
  {
   "cell_type": "code",
   "execution_count": 85,
   "id": "322ebf03",
   "metadata": {},
   "outputs": [],
   "source": [
    "all_data = []\n",
    "for fname, race, year in files: \n",
    "    data = read_csv(fname)\n",
    "    for d in data:\n",
    "        all_data.append([year, race] + d)"
   ]
  },
  {
   "cell_type": "code",
   "execution_count": 86,
   "id": "bff4649d",
   "metadata": {},
   "outputs": [
    {
     "data": {
      "text/plain": [
       "(135953,\n",
       " ['2008',\n",
       "  'first',\n",
       "  '1',\n",
       "  'Michael Brandell',\n",
       "  'San Francisco, CA',\n",
       "  '11051',\n",
       "  '1:17:26',\n",
       "  '5:55',\n",
       "  'M 20-29/0',\n",
       "  'M-23',\n",
       "  '1',\n",
       "  '1:17:26',\n",
       "  '76.49%'])"
      ]
     },
     "execution_count": 86,
     "metadata": {},
     "output_type": "execute_result"
    }
   ],
   "source": [
    "len(all_data), all_data[0]"
   ]
  },
  {
   "cell_type": "code",
   "execution_count": 87,
   "id": "97059d4a",
   "metadata": {},
   "outputs": [],
   "source": [
    "def time_to_mins(time: str) -> int:\n",
    "    t = datetime.strptime(time,\"%H:%M:%S\")\n",
    "    delta = timedelta(hours=t.hour, minutes=t.minute, seconds=t.second).total_seconds()\n",
    "    return delta/60"
   ]
  },
  {
   "cell_type": "code",
   "execution_count": 98,
   "id": "476c64dc",
   "metadata": {},
   "outputs": [
    {
     "data": {
      "text/plain": [
       "135953"
      ]
     },
     "execution_count": 98,
     "metadata": {},
     "output_type": "execute_result"
    }
   ],
   "source": [
    "all_data_proc = []\n",
    "for d in all_data:\n",
    "    time_mins = time_to_mins(d[6])\n",
    "    sex = d[9].split('-')[0]\n",
    "    age = d[9].split('-')[1]\n",
    "    state = d[4].split(', ')[-1]\n",
    "    category = d[8].split('/')[0]\n",
    "    country = 'USA'\n",
    "    city = 'n/a'\n",
    "    if state == '':\n",
    "        country = d[4].split(', ')[0]\n",
    "    else: \n",
    "        city = d[4].split(', ')[0]\n",
    "    birth = ''\n",
    "    try:\n",
    "        year = int(d[0])\n",
    "        birth = str(year - int(age))\n",
    "    except:\n",
    "#         print(d)\n",
    "        pass\n",
    "#     print([time_mins, birth, sex, age, category, state, country, city])\n",
    "    all_data_proc.append(d + [time_mins, birth, sex, age, category, state, country, city])\n",
    "len(all_data_proc)"
   ]
  },
  {
   "cell_type": "code",
   "execution_count": 99,
   "id": "52467c9a",
   "metadata": {},
   "outputs": [],
   "source": [
    "header = ['Year', 'Race', 'Place', 'Name', 'Location', 'Bib', 'Net Time', 'Pace', 'Division/Place', 'Sex-Age', 'Sex-Place', 'Gun Time', 'Age Grade', 'Time Mins', 'Birth', 'Sex', 'Age', 'Category', 'State', 'Country', 'City']"
   ]
  },
  {
   "cell_type": "code",
   "execution_count": 100,
   "id": "50fc14e2",
   "metadata": {},
   "outputs": [
    {
     "data": {
      "text/plain": [
       "(21, 21)"
      ]
     },
     "execution_count": 100,
     "metadata": {},
     "output_type": "execute_result"
    }
   ],
   "source": [
    "len(all_data_proc[0]), len(header)"
   ]
  },
  {
   "cell_type": "code",
   "execution_count": 101,
   "id": "ca796bf8",
   "metadata": {},
   "outputs": [],
   "source": [
    "all_data_proc = [header] + all_data_proc"
   ]
  },
  {
   "cell_type": "code",
   "execution_count": 102,
   "id": "5bca1431",
   "metadata": {},
   "outputs": [],
   "source": [
    "def write_to_csv(data: List[List[str]], fname: str) -> None:\n",
    "\twith open(fname, 'w') as csvfile:\n",
    "\t    spamwriter = csv.writer(csvfile)\n",
    "\t    for row in data:\n",
    "\t    \tspamwriter.writerow(row)"
   ]
  },
  {
   "cell_type": "code",
   "execution_count": 103,
   "id": "9630faf8",
   "metadata": {},
   "outputs": [],
   "source": [
    "write_to_csv(all_data_proc, 'half_marathon_2008_2021.csv')"
   ]
  },
  {
   "cell_type": "code",
   "execution_count": 104,
   "id": "a6173803",
   "metadata": {},
   "outputs": [],
   "source": [
    "files_full = [('full_2008.csv', '2008'),\n",
    "('full_2009.csv', '2009'),\n",
    "('full_2010.csv', '2010'),\n",
    "('full_2011.csv', '2011'),\n",
    "('full_2012.csv', '2012'),\n",
    "('full_2013.csv', '2013'),\n",
    "('full_2014.csv', '2014'),\n",
    "('full_2015.csv', '2015'),\n",
    "('full_2016.csv', '2016'),\n",
    "('full_2017.csv', '2017'),\n",
    "('full_2018.csv', '2018'),\n",
    "('full_2019.csv', '2019'),\n",
    "('full_2021.csv', '2021')]"
   ]
  },
  {
   "cell_type": "code",
   "execution_count": 105,
   "id": "a9a06467",
   "metadata": {},
   "outputs": [],
   "source": [
    "f_all_data = []\n",
    "for fname, year in files_full: \n",
    "    data = read_csv(fname)\n",
    "    for d in data:\n",
    "        f_all_data.append([year] + d)"
   ]
  },
  {
   "cell_type": "code",
   "execution_count": 106,
   "id": "3d06ea53",
   "metadata": {},
   "outputs": [
    {
     "data": {
      "text/plain": [
       "(73195,\n",
       " ['2008',\n",
       "  'first',\n",
       "  '1',\n",
       "  'Michael Brandell',\n",
       "  'San Francisco, CA',\n",
       "  '11051',\n",
       "  '1:17:26',\n",
       "  '5:55',\n",
       "  'M 20-29/0',\n",
       "  'M-23',\n",
       "  '1',\n",
       "  '1:17:26',\n",
       "  '76.49%'])"
      ]
     },
     "execution_count": 106,
     "metadata": {},
     "output_type": "execute_result"
    }
   ],
   "source": [
    "len(f_all_data), all_data[0]"
   ]
  },
  {
   "cell_type": "code",
   "execution_count": 108,
   "id": "bb7219c0",
   "metadata": {},
   "outputs": [],
   "source": [
    "f_all_data_proc = []\n",
    "for d in f_all_data:\n",
    "    time_mins = time_to_mins(d[5])\n",
    "    sex = d[8].split('-')[0]\n",
    "    age = d[8].split('-')[1]\n",
    "    state = d[3].split(', ')[-1]\n",
    "    category = d[7].split('/')[0]\n",
    "    country = 'USA'\n",
    "    city = 'n/a'\n",
    "    if state == '':\n",
    "        country = d[3].split(', ')[0]\n",
    "    else: \n",
    "        city = d[3].split(', ')[0]\n",
    "    birth = ''\n",
    "    try:\n",
    "        year = int(d[0])\n",
    "        birth = str(year - int(age))\n",
    "    except:\n",
    "        pass\n",
    "#     print([time_mins, sex, age, category, state, country, city])\n",
    "    f_all_data_proc.append(d + [time_mins, birth, sex, age, category, state, country, city])"
   ]
  },
  {
   "cell_type": "code",
   "execution_count": 109,
   "id": "42c70c78",
   "metadata": {},
   "outputs": [
    {
     "data": {
      "text/plain": [
       "73195"
      ]
     },
     "execution_count": 109,
     "metadata": {},
     "output_type": "execute_result"
    }
   ],
   "source": [
    "len(f_all_data_proc)"
   ]
  },
  {
   "cell_type": "code",
   "execution_count": 110,
   "id": "b36d6e48",
   "metadata": {},
   "outputs": [],
   "source": [
    "header = ['Year', 'Place', 'Name', 'Location', 'Bib', 'Net Time', 'Pace', 'Division/Place', 'Sex-Age', 'Sex-Place', 'Gun Time', 'Age Grade', 'Time Mins', 'Birth', 'Sex', 'Age', 'Category', 'State', 'Country', 'City']"
   ]
  },
  {
   "cell_type": "code",
   "execution_count": 111,
   "id": "37e3e5d6",
   "metadata": {},
   "outputs": [
    {
     "data": {
      "text/plain": [
       "(20, 20)"
      ]
     },
     "execution_count": 111,
     "metadata": {},
     "output_type": "execute_result"
    }
   ],
   "source": [
    "len(f_all_data_proc[0]), len(header)"
   ]
  },
  {
   "cell_type": "code",
   "execution_count": 112,
   "id": "89db5f91",
   "metadata": {},
   "outputs": [],
   "source": [
    "f_all_data_proc = [header] + f_all_data_proc"
   ]
  },
  {
   "cell_type": "code",
   "execution_count": 113,
   "id": "68505199",
   "metadata": {},
   "outputs": [],
   "source": [
    "write_to_csv(f_all_data_proc, 'full_marathon_2008_2021.csv')"
   ]
  },
  {
   "cell_type": "code",
   "execution_count": null,
   "id": "ad417c24",
   "metadata": {},
   "outputs": [],
   "source": []
  }
 ],
 "metadata": {
  "kernelspec": {
   "display_name": "Python 3",
   "language": "python",
   "name": "python3"
  },
  "language_info": {
   "codemirror_mode": {
    "name": "ipython",
    "version": 3
   },
   "file_extension": ".py",
   "mimetype": "text/x-python",
   "name": "python",
   "nbconvert_exporter": "python",
   "pygments_lexer": "ipython3",
   "version": "3.7.11"
  }
 },
 "nbformat": 4,
 "nbformat_minor": 5
}
